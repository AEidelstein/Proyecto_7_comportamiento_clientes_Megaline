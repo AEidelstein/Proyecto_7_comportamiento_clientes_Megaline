{
 "cells": [
  {
   "cell_type": "markdown",
   "metadata": {},
   "source": [
    "# Introducción"
   ]
  },
  {
   "cell_type": "markdown",
   "metadata": {},
   "source": [
    "<font color=green>\n",
    "    \n",
    "La compañía móvil Megaline no está satisfecha al ver que muchos de sus clientes\n",
    "utilizan planes heredados. Quieren desarrollar un modelo que pueda analizar el\n",
    "comportamiento de los clientes y recomendar uno de los nuevos planes de Megaline:\n",
    "\n",
    "- Smart \n",
    "- Ultra\n",
    "\n",
    "</font>"
   ]
  },
  {
   "cell_type": "markdown",
   "metadata": {},
   "source": [
    "# Objetivo"
   ]
  },
  {
   "cell_type": "markdown",
   "metadata": {},
   "source": [
    "<font color=green>\n",
    "Desarrollar un modelo que escoja el plan correcto según el comportamiento de los clientes de Megaline.\n",
    "    \n",
    "Utilizando 3 tipos de modelos:\n",
    "\n",
    "- Árbol de decisión\n",
    "- Bosque aleatorio\n",
    "- Regresión logística\n",
    "\n",
    "Viendo y calibrando sus hiperparámetros para buscar la mayor exactitud posible. Siendo para este proyecto el umbral de exactitud es 0.75.\n",
    "</font>\n"
   ]
  },
  {
   "cell_type": "markdown",
   "metadata": {},
   "source": [
    "# Librerías y Datos "
   ]
  },
  {
   "cell_type": "markdown",
   "metadata": {},
   "source": [
    "## Librerías"
   ]
  },
  {
   "cell_type": "code",
   "execution_count": 1,
   "metadata": {},
   "outputs": [],
   "source": [
    "import pandas as pd\n",
    "from sklearn import set_config\n",
    "from sklearn.tree import DecisionTreeClassifier\n",
    "from sklearn.tree import DecisionTreeRegressor\n",
    "from sklearn.ensemble import RandomForestClassifier\n",
    "from sklearn.ensemble import RandomForestRegressor\n",
    "from sklearn.linear_model import LogisticRegression\n",
    "from sklearn.linear_model import LinearRegression\n",
    "from sklearn.metrics import accuracy_score\n",
    "from sklearn.metrics import mean_squared_error\n",
    "from sklearn.model_selection import train_test_split "
   ]
  },
  {
   "cell_type": "markdown",
   "metadata": {},
   "source": [
    "## Datos"
   ]
  },
  {
   "cell_type": "code",
   "execution_count": 2,
   "metadata": {},
   "outputs": [],
   "source": [
    "try:\n",
    "    data = pd.read_csv('users_behavior.csv')\n",
    "except:\n",
    "    data = pd.read_csv('/datasets/users_behavior.csv')"
   ]
  },
  {
   "cell_type": "markdown",
   "metadata": {},
   "source": [
    "### Exploración de Datos"
   ]
  },
  {
   "cell_type": "code",
   "execution_count": 3,
   "metadata": {},
   "outputs": [
    {
     "name": "stdout",
     "output_type": "stream",
     "text": [
      "<class 'pandas.core.frame.DataFrame'>\n",
      "RangeIndex: 3214 entries, 0 to 3213\n",
      "Data columns (total 5 columns):\n",
      " #   Column    Non-Null Count  Dtype  \n",
      "---  ------    --------------  -----  \n",
      " 0   calls     3214 non-null   float64\n",
      " 1   minutes   3214 non-null   float64\n",
      " 2   messages  3214 non-null   float64\n",
      " 3   mb_used   3214 non-null   float64\n",
      " 4   is_ultra  3214 non-null   int64  \n",
      "dtypes: float64(4), int64(1)\n",
      "memory usage: 125.7 KB\n"
     ]
    }
   ],
   "source": [
    "data.info()"
   ]
  },
  {
   "cell_type": "code",
   "execution_count": 4,
   "metadata": {},
   "outputs": [
    {
     "data": {
      "text/html": [
       "<div>\n",
       "<style scoped>\n",
       "    .dataframe tbody tr th:only-of-type {\n",
       "        vertical-align: middle;\n",
       "    }\n",
       "\n",
       "    .dataframe tbody tr th {\n",
       "        vertical-align: top;\n",
       "    }\n",
       "\n",
       "    .dataframe thead th {\n",
       "        text-align: right;\n",
       "    }\n",
       "</style>\n",
       "<table border=\"1\" class=\"dataframe\">\n",
       "  <thead>\n",
       "    <tr style=\"text-align: right;\">\n",
       "      <th></th>\n",
       "      <th>calls</th>\n",
       "      <th>minutes</th>\n",
       "      <th>messages</th>\n",
       "      <th>mb_used</th>\n",
       "      <th>is_ultra</th>\n",
       "    </tr>\n",
       "  </thead>\n",
       "  <tbody>\n",
       "    <tr>\n",
       "      <th>0</th>\n",
       "      <td>40.0</td>\n",
       "      <td>311.90</td>\n",
       "      <td>83.0</td>\n",
       "      <td>19915.42</td>\n",
       "      <td>0</td>\n",
       "    </tr>\n",
       "    <tr>\n",
       "      <th>1</th>\n",
       "      <td>85.0</td>\n",
       "      <td>516.75</td>\n",
       "      <td>56.0</td>\n",
       "      <td>22696.96</td>\n",
       "      <td>0</td>\n",
       "    </tr>\n",
       "    <tr>\n",
       "      <th>2</th>\n",
       "      <td>77.0</td>\n",
       "      <td>467.66</td>\n",
       "      <td>86.0</td>\n",
       "      <td>21060.45</td>\n",
       "      <td>0</td>\n",
       "    </tr>\n",
       "    <tr>\n",
       "      <th>3</th>\n",
       "      <td>106.0</td>\n",
       "      <td>745.53</td>\n",
       "      <td>81.0</td>\n",
       "      <td>8437.39</td>\n",
       "      <td>1</td>\n",
       "    </tr>\n",
       "    <tr>\n",
       "      <th>4</th>\n",
       "      <td>66.0</td>\n",
       "      <td>418.74</td>\n",
       "      <td>1.0</td>\n",
       "      <td>14502.75</td>\n",
       "      <td>0</td>\n",
       "    </tr>\n",
       "  </tbody>\n",
       "</table>\n",
       "</div>"
      ],
      "text/plain": [
       "   calls  minutes  messages   mb_used  is_ultra\n",
       "0   40.0   311.90      83.0  19915.42         0\n",
       "1   85.0   516.75      56.0  22696.96         0\n",
       "2   77.0   467.66      86.0  21060.45         0\n",
       "3  106.0   745.53      81.0   8437.39         1\n",
       "4   66.0   418.74       1.0  14502.75         0"
      ]
     },
     "execution_count": 4,
     "metadata": {},
     "output_type": "execute_result"
    }
   ],
   "source": [
    "data.head()"
   ]
  },
  {
   "cell_type": "code",
   "execution_count": 5,
   "metadata": {},
   "outputs": [
    {
     "data": {
      "text/html": [
       "<div>\n",
       "<style scoped>\n",
       "    .dataframe tbody tr th:only-of-type {\n",
       "        vertical-align: middle;\n",
       "    }\n",
       "\n",
       "    .dataframe tbody tr th {\n",
       "        vertical-align: top;\n",
       "    }\n",
       "\n",
       "    .dataframe thead th {\n",
       "        text-align: right;\n",
       "    }\n",
       "</style>\n",
       "<table border=\"1\" class=\"dataframe\">\n",
       "  <thead>\n",
       "    <tr style=\"text-align: right;\">\n",
       "      <th></th>\n",
       "      <th>calls</th>\n",
       "      <th>minutes</th>\n",
       "      <th>messages</th>\n",
       "      <th>mb_used</th>\n",
       "      <th>is_ultra</th>\n",
       "    </tr>\n",
       "  </thead>\n",
       "  <tbody>\n",
       "    <tr>\n",
       "      <th>3209</th>\n",
       "      <td>122.0</td>\n",
       "      <td>910.98</td>\n",
       "      <td>20.0</td>\n",
       "      <td>35124.90</td>\n",
       "      <td>1</td>\n",
       "    </tr>\n",
       "    <tr>\n",
       "      <th>3210</th>\n",
       "      <td>25.0</td>\n",
       "      <td>190.36</td>\n",
       "      <td>0.0</td>\n",
       "      <td>3275.61</td>\n",
       "      <td>0</td>\n",
       "    </tr>\n",
       "    <tr>\n",
       "      <th>3211</th>\n",
       "      <td>97.0</td>\n",
       "      <td>634.44</td>\n",
       "      <td>70.0</td>\n",
       "      <td>13974.06</td>\n",
       "      <td>0</td>\n",
       "    </tr>\n",
       "    <tr>\n",
       "      <th>3212</th>\n",
       "      <td>64.0</td>\n",
       "      <td>462.32</td>\n",
       "      <td>90.0</td>\n",
       "      <td>31239.78</td>\n",
       "      <td>0</td>\n",
       "    </tr>\n",
       "    <tr>\n",
       "      <th>3213</th>\n",
       "      <td>80.0</td>\n",
       "      <td>566.09</td>\n",
       "      <td>6.0</td>\n",
       "      <td>29480.52</td>\n",
       "      <td>1</td>\n",
       "    </tr>\n",
       "  </tbody>\n",
       "</table>\n",
       "</div>"
      ],
      "text/plain": [
       "      calls  minutes  messages   mb_used  is_ultra\n",
       "3209  122.0   910.98      20.0  35124.90         1\n",
       "3210   25.0   190.36       0.0   3275.61         0\n",
       "3211   97.0   634.44      70.0  13974.06         0\n",
       "3212   64.0   462.32      90.0  31239.78         0\n",
       "3213   80.0   566.09       6.0  29480.52         1"
      ]
     },
     "execution_count": 5,
     "metadata": {},
     "output_type": "execute_result"
    }
   ],
   "source": [
    "data.tail()"
   ]
  },
  {
   "cell_type": "code",
   "execution_count": 7,
   "metadata": {},
   "outputs": [
    {
     "data": {
      "text/plain": [
       "1632.0600000000004"
      ]
     },
     "execution_count": 7,
     "metadata": {},
     "output_type": "execute_result"
    }
   ],
   "source": [
    "data['minutes'].max()"
   ]
  },
  {
   "cell_type": "markdown",
   "metadata": {},
   "source": [
    "### Descripción y observación de datos \n",
    "\n",
    "<font color=green>\n",
    "Revisando la información de nuestro DataFrame, observamos lo siguiente:\n",
    "    \n",
    "- Tenemos un total de 5 columnas.\n",
    "    - `сalls` — número de llamadas\n",
    "    - `minutes` — duración total de la llamada en minutos\n",
    "    - `messages` —número de mensajes de texto\n",
    "    - `mb_used` — Tráfico de Internet utilizado en MB\n",
    "    - `is_ultra` — plan para el mes actual (Ultra - 1, Smart - 0).\n",
    "- No tiene datos faltantes.\n",
    "- No tiene datos de formato equivocado.\n",
    "\n",
    "No necesitamos corregir datos ni formatos.\n",
    "</font>"
   ]
  },
  {
   "cell_type": "markdown",
   "metadata": {},
   "source": [
    "## Preparación de los datos\n",
    "\n",
    "<font color=green>\n",
    "Como mencionado antes, en este caso no debemos llenar datos faltantes ni corregir el formato de estos. Pero de todas formas, debemos preparar los datos antes de poder trabajar con ellos. Para poder entrenar, validar y testear el modelo, debemos efectuar 2 pasos antes:\n",
    "    \n",
    " 1. Dividir los datos en distintos grupos. En este caso, dejaremos el 60% para entrenar, 20% para validar y 20% para testear el modelo.\n",
    "\n",
    " 2. Crear los targets y features, considerando el entrenamiento, validación y testeo del modelo. Considerando la columna `is_ultra` como el objetivo(target).\n",
    "</font>"
   ]
  },
  {
   "cell_type": "code",
   "execution_count": 6,
   "metadata": {},
   "outputs": [
    {
     "name": "stdout",
     "output_type": "stream",
     "text": [
      "Tamaño data_rest: (2571, 5)\n",
      "---------------------------\n",
      "Tamaño data_test: (643, 5)\n"
     ]
    }
   ],
   "source": [
    "#Separamos el grupo de testeo\n",
    "data_rest, data_test = train_test_split(data, test_size=0.2, random_state=54321)\n",
    "print(f'Tamaño data_rest:', data_rest.shape)\n",
    "print('---------------------------')\n",
    "print(f'Tamaño data_test:', data_test.shape)"
   ]
  },
  {
   "cell_type": "code",
   "execution_count": 7,
   "metadata": {},
   "outputs": [
    {
     "name": "stdout",
     "output_type": "stream",
     "text": [
      "Tamaño data_train: (2410, 5)\n",
      "----------------------------\n",
      "Tamaño data_valid: (804, 5)\n"
     ]
    }
   ],
   "source": [
    "#Separamos el grupo de entrenamiento y validación:\n",
    "data_train, data_valid = train_test_split(data, test_size=0.25, random_state=54321)\n",
    "print(f'Tamaño data_train:', data_train.shape)\n",
    "print('----------------------------')\n",
    "print(f'Tamaño data_valid:', data_valid.shape)"
   ]
  },
  {
   "cell_type": "code",
   "execution_count": 8,
   "metadata": {},
   "outputs": [],
   "source": [
    "#Creamos los features y targets para nuestro modelo\n",
    "features_train = data_train.drop(['is_ultra'], axis=1)\n",
    "target_train = data_train['is_ultra']\n",
    "features_valid = data_valid.drop(['is_ultra'], axis=1)\n",
    "target_valid = data_valid['is_ultra']\n",
    "features_test = data_test.drop(['is_ultra'], axis=1)\n",
    "target_test = data_test['is_ultra']"
   ]
  },
  {
   "cell_type": "code",
   "execution_count": 9,
   "metadata": {
    "scrolled": true
   },
   "outputs": [
    {
     "name": "stdout",
     "output_type": "stream",
     "text": [
      "DataFrame de Entrenamiento:\n",
      "(2410, 4)\n",
      "(2410,)\n",
      "-------------------------\n",
      "DataFrame de Validación:\n",
      "(804, 4)\n",
      "(804,)\n",
      "---------------------\n",
      "DataFrame de Prueba:\n",
      "(643, 4)\n",
      "(643,)\n"
     ]
    }
   ],
   "source": [
    "#Imprimamos los tamaños finales de nuestros DataFrames\n",
    "print(f'DataFrame de Entrenamiento:')\n",
    "print(features_train.shape)\n",
    "print(target_train.shape)\n",
    "print('-------------------------')\n",
    "print(f'DataFrame de Validación:')\n",
    "print(features_valid.shape)\n",
    "print(target_valid.shape)\n",
    "print('---------------------')\n",
    "print(f'DataFrame de Prueba:')\n",
    "print(features_test.shape)\n",
    "print(target_test.shape)"
   ]
  },
  {
   "cell_type": "markdown",
   "metadata": {},
   "source": [
    "# Modelos a ocupar"
   ]
  },
  {
   "cell_type": "markdown",
   "metadata": {},
   "source": [
    "## Modelo: Árbol de decisión\n",
    "<font color=green>\n",
    "Para comenzar, utilizaremos el modelo de Árbol de decisión. Es el segundo modelo más rápido de procesamiento. Pero podemos jugar, cambiando su profundidad.    \n",
    "</font>\n"
   ]
  },
  {
   "cell_type": "code",
   "execution_count": 10,
   "metadata": {},
   "outputs": [
    {
     "name": "stdout",
     "output_type": "stream",
     "text": [
      "Accuracy del mejor modelo en el conjunto de validación (depth = 8): 0.7935323383084577\n"
     ]
    }
   ],
   "source": [
    "best_tree=0\n",
    "best_depth=0\n",
    "score=0\n",
    "for depth in range(1, 50):\n",
    "    tree = DecisionTreeClassifier(random_state=12345, max_depth=depth)\n",
    "    tree.fit(features_train, target_train)\n",
    "    score = tree.score(features_valid, target_valid)\n",
    "    if score > best_tree:\n",
    "        best_tree = score # guarda la mejor puntuación de accuracy en el conjunto de validación\n",
    "        best_depth = depth # guarda el número de estimadores que corresponden a la mejor puntuación de accuracy\n",
    "\n",
    "print(\"Accuracy del mejor modelo en el conjunto de validación (depth = {}): {}\".format(best_depth, best_tree))\n"
   ]
  },
  {
   "cell_type": "markdown",
   "metadata": {},
   "source": [
    "<font color=green>\n",
    "    En el Árol de decisión, el resultado es que el mejor árbol es de una profundidad de 8, con una exactitud de 79.3%\n",
    "</font>"
   ]
  },
  {
   "cell_type": "code",
   "execution_count": 11,
   "metadata": {},
   "outputs": [
    {
     "name": "stdout",
     "output_type": "stream",
     "text": [
      "RECM del mejor modelo en el conjunto de validación (max_depth = 5): 0.4010290103757847\n"
     ]
    }
   ],
   "source": [
    "#Árbol de decisión de regresión\n",
    "best_model = None\n",
    "best_result = 10000\n",
    "best_depth = 0\n",
    "for depth in range(1, 6): # selecciona el rango del hiperparámetro\n",
    "    model = DecisionTreeRegressor(random_state=12345, max_depth=depth) # entrena el modelo en el conjunto de entrenamiento\n",
    "    model.fit(features_train, target_train) # entrena el modelo en el conjunto de entrenamiento\n",
    "    predictions_valid = model.predict(features_valid) # obtén las predicciones del modelo en el conjunto de validación\n",
    "    result = mean_squared_error(target_valid, predictions_valid)**0.5 # calcula la RECM en el conjunto de validación\n",
    "    if result < best_result:\n",
    "        best_model = model\n",
    "        best_result = result\n",
    "        best_depth = depth\n",
    "\n",
    "print(f\"RECM del mejor modelo en el conjunto de validación (max_depth = {best_depth}): {best_result}\")"
   ]
  },
  {
   "cell_type": "markdown",
   "metadata": {},
   "source": [
    "<font color=green>\n",
    "    En el Árol de decisión de regresión, el mejor resultado es el árbol de una profundidad de 5, con una exactitud de 40.1%\n",
    "</font>"
   ]
  },
  {
   "cell_type": "markdown",
   "metadata": {},
   "source": [
    "## Modelo: Bosque Aleatorio\n",
    "<font color=green>\n",
    "Seguimos con el Bosque Aleatorio. Que tiene la exactitud más alta, por su uso de un conjunto de árboles, pero a su vez, es el más lento, debendiendo de cuántos árboles tenga.    \n",
    "</font>\n"
   ]
  },
  {
   "cell_type": "code",
   "execution_count": 12,
   "metadata": {},
   "outputs": [
    {
     "name": "stdout",
     "output_type": "stream",
     "text": [
      "Accuracy del mejor modelo en el conjunto de validación (n_estimators = 16): 0.8022388059701493\n"
     ]
    },
    {
     "data": {
      "text/plain": [
       "RandomForestClassifier(max_depth=1, n_estimators=16, random_state=54321)"
      ]
     },
     "execution_count": 12,
     "metadata": {},
     "output_type": "execute_result"
    }
   ],
   "source": [
    "#Bosque Aleatorio\n",
    "best_score = 0\n",
    "best_est = 0\n",
    "best_depth = 0\n",
    "for est in range(1, 20): # selecciona el rango del hiperparámetro\n",
    "    for depth in range(1,20):\n",
    "        model = RandomForestClassifier(random_state=54321, n_estimators=est) # configura el número de árboles\n",
    "        model.fit(features_train, target_train) # entrena el modelo en el conjunto de entrenamiento\n",
    "        score = model.score(features_valid, target_valid) # calcula la puntuación de accuracy en el conjunto de validación\n",
    "        if score > best_score:\n",
    "            best_score = score # guarda la mejor puntuación de accuracy en el conjunto de validación\n",
    "            best_est = est # guarda el número de estimadores que corresponden a la mejor puntuación de accuracy\n",
    "            best_depth = depth\n",
    "\n",
    "print(\"Accuracy del mejor modelo en el conjunto de validación (n_estimators = {}): {}\".format(best_est, best_score))\n",
    "\n",
    "final_forest = RandomForestClassifier(random_state=54321, n_estimators=best_est, max_depth=best_depth) # cambia n_estimators para obtener el mejor modelo\n",
    "final_forest.fit(features_train, target_train)"
   ]
  },
  {
   "cell_type": "markdown",
   "metadata": {},
   "source": [
    "<font color=green>\n",
    "En el Bosque aleatorio el mejor resultado con 16 árboles con una exactitud de 80.2%    \n",
    "</font>"
   ]
  },
  {
   "cell_type": "code",
   "execution_count": 13,
   "metadata": {},
   "outputs": [
    {
     "name": "stdout",
     "output_type": "stream",
     "text": [
      "RECM del mejor modelo en el conjunto de validación 0.38540378423181687 n_estimators: 16 best_depth: 19\n"
     ]
    }
   ],
   "source": [
    "#Bosque aleatorio de regresión\n",
    "best_model = None\n",
    "best_result = 10000\n",
    "best_est = 0\n",
    "best_depth = 0\n",
    "for est in range(1, 20):\n",
    "    for depth in range (1, 20):\n",
    "        model = RandomForestRegressor(random_state=12345, n_estimators=est, max_depth=depth) # inicializa el constructor de modelos con los parámetros random_state=12345 y n_estimators=est\n",
    "        model.fit(features_train, target_train) # entrena el modelo en el conjunto de entrenamiento\n",
    "        predictions_valid = model.predict(features_valid) # obtén las predicciones del modelo en el conjunto de validación\n",
    "        result = mean_squared_error(target_valid, predictions_valid)**0.5 # calcula la RECM en el conjunto de validación\n",
    "        if result < best_result:\n",
    "            best_model = model\n",
    "            best_result = result\n",
    "            best_est = est\n",
    "            best_depth = depth\n",
    "\n",
    "print(\"RECM del mejor modelo en el conjunto de validación\", best_result, \"n_estimators:\", best_est, \"best_depth:\", depth)"
   ]
  },
  {
   "cell_type": "markdown",
   "metadata": {},
   "source": [
    "<font color=green>\n",
    "En el Bosque aleatorio de regresión, el mejor resultado con 16 árboles, nos da una exactitud de 38.5%.   \n",
    "</font>"
   ]
  },
  {
   "cell_type": "markdown",
   "metadata": {},
   "source": [
    "## Modelo: Regresión logística\n",
    "<font color=green>\n",
    "Terminamos con la Regresión logística. Es el modelo más rápido, porque tiene el menor número de parámetros, y en exactitud es la intermedia de los tres modelos.    \n",
    "</font>"
   ]
  },
  {
   "cell_type": "code",
   "execution_count": 14,
   "metadata": {},
   "outputs": [
    {
     "name": "stdout",
     "output_type": "stream",
     "text": [
      "Accuracy del modelo de regresión logística en el conjunto de entrenamiento: 0.7178423236514523\n",
      "Accuracy del modelo de regresión logística en el conjunto de validación: 0.6940298507462687\n"
     ]
    }
   ],
   "source": [
    "model = LogisticRegression(random_state=54321, solver='liblinear') # inicializa el constructor de regresión logística con los parámetros random_state=54321 y solver='liblinear'\n",
    "model.fit(features_train, target_train) # entrena el modelo en el conjunto de entrenamiento\n",
    "score_train = model.score(features_train, target_train) # calcula la puntuación de accuracy en el conjunto de entrenamiento\n",
    "score_valid = model.score(features_valid, target_valid) # calcula la puntuación de accuracy en el conjunto de validación\n",
    "\n",
    "print(\"Accuracy del modelo de regresión logística en el conjunto de entrenamiento:\", score_train)\n",
    "print(\"Accuracy del modelo de regresión logística en el conjunto de validación:\", score_valid)"
   ]
  },
  {
   "cell_type": "markdown",
   "metadata": {},
   "source": [
    "<font color=green>\n",
    "En la regresión logística, observamos que en el conjunto de entrenamiento, alcanza una exactitud de 71.7%, y en el conjunto de validación 69.4%   \n",
    "</font>"
   ]
  },
  {
   "cell_type": "code",
   "execution_count": 15,
   "metadata": {},
   "outputs": [
    {
     "name": "stdout",
     "output_type": "stream",
     "text": [
      "RECM del modelo de regresión lineal en el conjunto de validación: 0.4550494744660431\n"
     ]
    }
   ],
   "source": [
    "#Regresión linear\n",
    "model = LinearRegression() # inicializa el constructor de modelos\n",
    "model.fit(features_train, target_train) # entrena el modelo en el conjunto de entrenamiento\n",
    "predictions_valid = model.predict(features_valid) # obtén las predicciones del modelo en el conjunto de validación\n",
    "\n",
    "result = mean_squared_error(target_valid, predictions_valid)**0.5# calcula la RECM en el conjunto de validación\n",
    "print( \"RECM del modelo de regresión lineal en el conjunto de validación:\", result)"
   ]
  },
  {
   "cell_type": "markdown",
   "metadata": {},
   "source": [
    "<font color=green>\n",
    "En la regresión linear, observamos que en el conjunto de validación alcanza solamente el 45.5%   \n",
    "</font>"
   ]
  },
  {
   "cell_type": "markdown",
   "metadata": {},
   "source": [
    "# Testeo"
   ]
  },
  {
   "cell_type": "markdown",
   "metadata": {},
   "source": [
    "<font color=green>\n",
    "    \n",
    "Según lo observado en los modelos, tenemos 2 que son bastantes cercanas en su exactitud, por lo tanto haremos el testo con cada uno de ellos. \n",
    "Primero entrenaremos los modelos con el `data_rest`. Una vez entrenado el modelo, lo compararemos con los datos de `data_test`.\n",
    "\n",
    "</font>"
   ]
  },
  {
   "cell_type": "code",
   "execution_count": 16,
   "metadata": {},
   "outputs": [],
   "source": [
    "features_rest = data_rest.drop(['is_ultra'], axis=1)\n",
    "target_rest = data_rest['is_ultra']"
   ]
  },
  {
   "cell_type": "code",
   "execution_count": 17,
   "metadata": {},
   "outputs": [
    {
     "name": "stdout",
     "output_type": "stream",
     "text": [
      "0.7776049766718507\n"
     ]
    }
   ],
   "source": [
    "#Árbol de decisión:\n",
    "\n",
    "final_tree = DecisionTreeClassifier(max_depth=8, random_state=12345)\n",
    "final_tree.fit(features_rest, target_rest)\n",
    "\n",
    "score = final_tree.score(features_test, target_test)\n",
    "print(score)\n",
    "\n"
   ]
  },
  {
   "cell_type": "markdown",
   "metadata": {},
   "source": [
    "<font color=green>\n",
    "Ha bajado en 1.6% la exactitud del modelo Árboles de decisión (77.7%), en comparación con el de validación (79.3%).     \n",
    "</font>"
   ]
  },
  {
   "cell_type": "code",
   "execution_count": 18,
   "metadata": {},
   "outputs": [
    {
     "name": "stdout",
     "output_type": "stream",
     "text": [
      "0.7262830482115086\n"
     ]
    }
   ],
   "source": [
    "#Bosque aleatorio:\n",
    "\n",
    "final_forest= RandomForestClassifier(max_depth=1, n_estimators=16, random_state=54321)\n",
    "final_forest.fit(features_rest,target_rest)\n",
    "\n",
    "score = final_forest.score(features_test, target_test)\n",
    "print(score)\n"
   ]
  },
  {
   "cell_type": "markdown",
   "metadata": {},
   "source": [
    "<font color=green>\n",
    "En el modelo de Bosque aleatorio (72.6%), ha bajado 7,6%, en comparación con el de validación (80.2%).\n",
    "</font>"
   ]
  },
  {
   "cell_type": "markdown",
   "metadata": {},
   "source": [
    "<font color=green>\n",
    "Siendo el árbol de decisión, quién lleva una ventaja sobre el bosque aleatorio (5%). Pudiese haber otro método para poder aumentar la exactitud. Se intentó alterando alguno hiperparámetros, pero solamente se ha logrado obtener un modelo con esta exactitud.\n",
    "</font>"
   ]
  },
  {
   "cell_type": "markdown",
   "metadata": {},
   "source": [
    "# Conclusión"
   ]
  },
  {
   "cell_type": "markdown",
   "metadata": {},
   "source": [
    "<font color=green>\n",
    "Luego, de entrenar y validar nuestros 3 modelos, nos quedamos con dos posibles opciones:\n",
    "    \n",
    "    \n",
    "- Árbol de decisión: con una profundidad máxima de 8 árboles y una exactitud de 77.7%\n",
    "\n",
    "    - `final_tree = DecisionTreeClassifier(max_depth=8, random_state=12345)`\n",
    "    \n",
    "- Bosque aleatorio: Con un bosque de 16 árboles, una profundidad máxima de 1 y una exactitud de 72.6%\n",
    "\n",
    "    - `final_forest= RandomForestClassifier(max_depth=1, n_estimators=16, random_state=54321`\n",
    "\n",
    "</font>"
   ]
  }
 ],
 "metadata": {
  "kernelspec": {
   "display_name": "Python 3 (ipykernel)",
   "language": "python",
   "name": "python3"
  },
  "language_info": {
   "codemirror_mode": {
    "name": "ipython",
    "version": 3
   },
   "file_extension": ".py",
   "mimetype": "text/x-python",
   "name": "python",
   "nbconvert_exporter": "python",
   "pygments_lexer": "ipython3",
   "version": "3.11.3"
  },
  "toc": {
   "base_numbering": 1,
   "nav_menu": {},
   "number_sections": true,
   "sideBar": true,
   "skip_h1_title": true,
   "title_cell": "Table of Contents",
   "title_sidebar": "Contents",
   "toc_cell": false,
   "toc_position": {},
   "toc_section_display": true,
   "toc_window_display": true
  }
 },
 "nbformat": 4,
 "nbformat_minor": 2
}
